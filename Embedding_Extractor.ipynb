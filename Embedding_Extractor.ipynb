{
  "cells": [
    {
      "cell_type": "code",
      "execution_count": null,
      "metadata": {
        "id": "VpAXKdhXvLzj"
      },
      "outputs": [],
      "source": [
        "!pip install essentia essentia-tensorflow\n",
        "!cp -r /content/drive/MyDrive/music .\n",
        "!cp -r /content/drive/MyDrive/models ./models\n",
        "%load_ext autoreload\n",
        "%autoreload 2"
      ]
    },
    {
      "cell_type": "code",
      "execution_count": 3,
      "metadata": {
        "cellView": "form",
        "colab": {
          "base_uri": "https://localhost:8080/"
        },
        "id": "1vIpkZz0u1LO",
        "outputId": "8e5454f8-8ce8-47c6-df36-b8eb50f1c569",
        "tags": []
      },
      "outputs": [
        {
          "name": "stderr",
          "output_type": "stream",
          "text": [
            "100%|██████████| 2.22k/2.22k [00:00<00:00, 3.62MiB/s]"
          ]
        },
        {
          "name": "stdout",
          "output_type": "stream",
          "text": [
            "Downloaded model to: models/discogs_multi_embeddings-effnet-bs64-1.json\n"
          ]
        },
        {
          "name": "stderr",
          "output_type": "stream",
          "text": [
            "\n"
          ]
        }
      ],
      "source": [
        "# @title Download file\n",
        "\n",
        "import os\n",
        "import requests\n",
        "from tqdm import tqdm\n",
        "\n",
        "model_url = \"https://essentia.upf.edu/models/feature-extractors/discogs-effnet/discogs_multi_embeddings-effnet-bs64-1.json\" # @param {type:\"string\"}\n",
        "model_name = os.path.basename(model_url)\n",
        "dirpath = \"models\" # @param {type:\"string\"}\n",
        "# Create the directory if it doesn't exist\n",
        "if not os.path.exists(dirpath):\n",
        "    os.makedirs(dirpath)\n",
        "\n",
        "# Download the model with progress\n",
        "response = requests.get(model_url, stream=True)\n",
        "total_size = int(response.headers.get('content-length', 0))\n",
        "block_size = 1024\n",
        "progress_bar = tqdm(total=total_size, unit='iB', unit_scale=True)\n",
        "\n",
        "# Save the model to disk\n",
        "with open(os.path.join(dirpath, model_name), \"wb\") as f:\n",
        "    for chunk in response.iter_content(block_size):\n",
        "        progress_bar.update(len(chunk))\n",
        "        f.write(chunk)\n",
        "\n",
        "progress_bar.close()\n",
        "\n",
        "print(f\"Downloaded model to: {os.path.join('models', model_name)}\")"
      ]
    },
    {
      "cell_type": "code",
      "execution_count": null,
      "metadata": {
        "colab": {
          "base_uri": "https://localhost:8080/"
        },
        "id": "MZ8jbuMwvrjL",
        "outputId": "e555c2dc-a0bb-4b4d-9934-5caab2361947"
      },
      "outputs": [],
      "source": [
        "import os\n",
        "import numpy as np\n",
        "from essentia.standard import MonoLoader, TensorflowPredictEffnetDiscogs\n",
        "# tracks = [f\"./music/{k}\" for k in os.listdir(\"music\")]\n",
        "# tracks"
      ]
    },
    {
      "cell_type": "code",
      "execution_count": 5,
      "metadata": {
        "id": "IdUiKNU2y4Ra"
      },
      "outputs": [],
      "source": [
        "modeldir = \"models\"\n",
        "modelname = \"discogs_track_embeddings-effnet-bs64-1.pb\"\n",
        "model = TensorflowPredictEffnetDiscogs(graphFilename=f\"{modeldir}/{modelname}\", output=\"PartitionedCall:1\")"
      ]
    },
    {
      "cell_type": "code",
      "execution_count": 13,
      "metadata": {
        "id": "d3KbzQ4avkxl"
      },
      "outputs": [],
      "source": [
        "audio1 = MonoLoader(filename=tracks[-1], sampleRate=16000, resampleQuality=4)()\n",
        "audio2 = MonoLoader(filename=tracks[-2], sampleRate=16000, resampleQuality=4)()"
      ]
    },
    {
      "cell_type": "code",
      "execution_count": 14,
      "metadata": {
        "id": "EranL0VqzLvA"
      },
      "outputs": [],
      "source": [
        "# %timeit\n",
        "embedding1 = model(audio1)\n",
        "embedding2 = model(audio2)"
      ]
    },
    {
      "cell_type": "code",
      "execution_count": null,
      "metadata": {
        "id": "vwVqwm6g3K5e"
      },
      "outputs": [],
      "source": [
        "def bilenear_product(emb1, emb2):\n",
        "    projection_positive = np.matmul(BL_PW, np.transpose(emb2))\n",
        "    compatibily = np.matmul(emb1, projection_positive)\n",
        "    return compatibily"
      ]
    },
    {
      "cell_type": "code",
      "execution_count": 23,
      "metadata": {
        "colab": {
          "base_uri": "https://localhost:8080/"
        },
        "id": "C1Hzw-EQzN6b",
        "outputId": "0116a83a-85e6-4ddc-b14c-068359885986"
      },
      "outputs": [
        {
          "data": {
            "text/plain": [
              "270.95322"
            ]
          },
          "execution_count": 23,
          "metadata": {},
          "output_type": "execute_result"
        }
      ],
      "source": [
        "dur = min(embedding1.shape[0], embedding2.shape[0])\n",
        "np.linalg.norm(embedding1[:dur,:] - embedding2[:dur,:])\n"
      ]
    },
    {
      "cell_type": "code",
      "execution_count": null,
      "metadata": {
        "id": "t6BzfmSB4GVx"
      },
      "outputs": [],
      "source": [
        "def distance(emb1, emb2):\n",
        "    return np.linalg.norm(emb1 - emb2)\n",
        "\n",
        "# get embedding of everu track\n",
        "embeddings = [model(MonoLoader(filename=track, sampleRate=16000, resampleQuality=4)()) for track in tracks]\n",
        "# make a distance matrix\n",
        "distances = np.zeros((len(embeddings), len(embeddings)))\n",
        "for i in range(len(embeddings)):\n",
        "    for j in range(len(embeddings)):\n",
        "        distances[i,j] = distance(embeddings[i], embeddings[j])\n",
        "\n",
        "import matplotlib.pyplot as plt\n",
        "# distance is a scalar, plot it as a heatmap\n",
        "plt.imshow(distances)\n",
        "plt.colorbar()\n",
        "\n"
      ]
    },
    {
      "cell_type": "code",
      "execution_count": null,
      "metadata": {},
      "outputs": [],
      "source": [
        "for row in distances:\n",
        "    # print(row)\n",
        "    # get the index of the minimum value other than 0\n",
        "    min_index = np.argmin(row[np.nonzero(row)])\n",
        "    print(min_index, row[min_index])"
      ]
    }
  ],
  "metadata": {
    "colab": {
      "provenance": []
    },
    "kernelspec": {
      "display_name": "Python 3",
      "name": "python3"
    },
    "language_info": {
      "codemirror_mode": {
        "name": "ipython",
        "version": 3
      },
      "file_extension": ".py",
      "mimetype": "text/x-python",
      "name": "python",
      "nbconvert_exporter": "python",
      "pygments_lexer": "ipython3",
      "version": "3.9.0"
    }
  },
  "nbformat": 4,
  "nbformat_minor": 0
}
