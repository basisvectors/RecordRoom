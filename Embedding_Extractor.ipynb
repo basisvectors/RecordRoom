{
  "nbformat": 4,
  "nbformat_minor": 0,
  "metadata": {
    "colab": {
      "provenance": []
    },
    "kernelspec": {
      "name": "python3",
      "display_name": "Python 3"
    },
    "language_info": {
      "name": "python"
    }
  },
  "cells": [
    {
      "cell_type": "code",
      "source": [
        "!pip install essentia essentia-tensorflow\n",
        "!cp -r /content/drive/MyDrive/music .\n",
        "!cp -r /content/drive/MyDrive/models ./models\n",
        "%load_ext autoreload\n",
        "%autoreload 2"
      ],
      "metadata": {
        "id": "VpAXKdhXvLzj"
      },
      "execution_count": null,
      "outputs": []
    },
    {
      "source": [
        "# @title Download file\n",
        "\n",
        "import os\n",
        "import requests\n",
        "from tqdm import tqdm\n",
        "\n",
        "model_url = \"https://essentia.upf.edu/models/feature-extractors/discogs-effnet/discogs_multi_embeddings-effnet-bs64-1.json\" # @param {type:\"string\"}\n",
        "model_name = os.path.basename(model_url)\n",
        "dirpath = \"models\" # @param {type:\"string\"}\n",
        "# Create the directory if it doesn't exist\n",
        "if not os.path.exists(dirpath):\n",
        "    os.makedirs(dirpath)\n",
        "\n",
        "# Download the model with progress\n",
        "response = requests.get(model_url, stream=True)\n",
        "total_size = int(response.headers.get('content-length', 0))\n",
        "block_size = 1024\n",
        "progress_bar = tqdm(total=total_size, unit='iB', unit_scale=True)\n",
        "\n",
        "# Save the model to disk\n",
        "with open(os.path.join(dirpath, model_name), \"wb\") as f:\n",
        "    for chunk in response.iter_content(block_size):\n",
        "        progress_bar.update(len(chunk))\n",
        "        f.write(chunk)\n",
        "\n",
        "progress_bar.close()\n",
        "\n",
        "print(f\"Downloaded model to: {os.path.join('models', model_name)}\")"
      ],
      "cell_type": "code",
      "metadata": {
        "colab": {
          "base_uri": "https://localhost:8080/"
        },
        "cellView": "form",
        "id": "1vIpkZz0u1LO",
        "outputId": "8e5454f8-8ce8-47c6-df36-b8eb50f1c569"
      },
      "execution_count": 8,
      "outputs": [
        {
          "output_type": "stream",
          "name": "stderr",
          "text": [
            "100%|██████████| 2.22k/2.22k [00:00<00:00, 722kiB/s]"
          ]
        },
        {
          "output_type": "stream",
          "name": "stdout",
          "text": [
            "Downloaded model to: models/discogs_multi_embeddings-effnet-bs64-1.json\n"
          ]
        },
        {
          "output_type": "stream",
          "name": "stderr",
          "text": [
            "\n"
          ]
        }
      ]
    },
    {
      "cell_type": "code",
      "source": [
        "import os\n",
        "import numpy as np\n",
        "from essentia.standard import MonoLoader, TensorflowPredictEffnetDiscogs\n",
        "tracks = [f\"./music/{k}\" for k in os.listdir(\"music\")]\n",
        "tracks"
      ],
      "metadata": {
        "colab": {
          "base_uri": "https://localhost:8080/"
        },
        "id": "MZ8jbuMwvrjL",
        "outputId": "e555c2dc-a0bb-4b4d-9934-5caab2361947"
      },
      "execution_count": 15,
      "outputs": [
        {
          "output_type": "execute_result",
          "data": {
            "text/plain": [
              "['./music/06 - Saw You for the First Time.flac',\n",
              " './music/07 - Marriage.flac',\n",
              " './music/22 - Killing Yourself On A Beach.flac',\n",
              " './music/2 - Mediaevil.flac',\n",
              " './music/01 - Why Do Cowboys Never Die In The.flac']"
            ]
          },
          "metadata": {},
          "execution_count": 15
        }
      ]
    },
    {
      "cell_type": "code",
      "source": [
        "modeldir = \"models\"\n",
        "modelname = \"discogs_track_embeddings-effnet-bs64-1.pb\"\n",
        "model = TensorflowPredictEffnetDiscogs(graphFilename=f\"{modeldir}/{modelname}\", output=\"PartitionedCall:1\")"
      ],
      "metadata": {
        "id": "IdUiKNU2y4Ra"
      },
      "execution_count": 5,
      "outputs": []
    },
    {
      "cell_type": "code",
      "source": [
        "audio1 = MonoLoader(filename=tracks[-1], sampleRate=16000, resampleQuality=4)()\n",
        "audio2 = MonoLoader(filename=tracks[-2], sampleRate=16000, resampleQuality=4)()"
      ],
      "metadata": {
        "id": "d3KbzQ4avkxl"
      },
      "execution_count": 13,
      "outputs": []
    },
    {
      "cell_type": "code",
      "source": [
        "# %timeit\n",
        "embedding1 = model(audio1)\n",
        "embedding2 = model(audio2)"
      ],
      "metadata": {
        "id": "EranL0VqzLvA"
      },
      "execution_count": 14,
      "outputs": []
    },
    {
      "cell_type": "code",
      "source": [
        "def bilenear_product(emb1, emb2):\n",
        "    projection_positive = np.matmul(BL_PW, np.transpose(emb2))\n",
        "    compatibily = np.matmul(emb1, projection_positive)\n",
        "    return compatibily"
      ],
      "metadata": {
        "id": "vwVqwm6g3K5e"
      },
      "execution_count": null,
      "outputs": []
    },
    {
      "cell_type": "code",
      "source": [
        "dur = min(embedding1.shape[0], embedding2.shape[0])\n",
        "np.linalg.norm(embedding1[:dur,:] - embedding2[:dur,:])\n"
      ],
      "metadata": {
        "colab": {
          "base_uri": "https://localhost:8080/"
        },
        "id": "C1Hzw-EQzN6b",
        "outputId": "0116a83a-85e6-4ddc-b14c-068359885986"
      },
      "execution_count": 23,
      "outputs": [
        {
          "output_type": "execute_result",
          "data": {
            "text/plain": [
              "270.95322"
            ]
          },
          "metadata": {},
          "execution_count": 23
        }
      ]
    },
    {
      "cell_type": "code",
      "source": [
        "embedding3"
      ],
      "metadata": {
        "id": "t6BzfmSB4GVx"
      },
      "execution_count": null,
      "outputs": []
    }
  ]
}